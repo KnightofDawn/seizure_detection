{
 "cells": [
  {
   "cell_type": "code",
   "execution_count": 2,
   "metadata": {
    "collapsed": false,
    "scrolled": false
   },
   "outputs": [
    {
     "name": "stdout",
     "output_type": "stream",
     "text": [
      "[[ 0.  0.  0. ...,  0.  0.  0.]\n",
      " [ 0.  0.  0. ...,  0.  0.  0.]\n",
      " [ 0.  0.  0. ...,  0.  0.  0.]\n",
      " ..., \n",
      " [ 0.  0.  0. ...,  0.  0.  0.]\n",
      " [ 1.  1.  1. ...,  1.  1.  1.]\n",
      " [ 1.  1.  1. ...,  1.  1.  1.]]\n",
      "[ 0.3125  0.3125  0.3125 ...,  0.375   0.3125  0.3125]\n"
     ]
    }
   ],
   "source": [
    "import glob\n",
    "import os\n",
    "\n",
    "import numpy as np\n",
    "import pandas as pd\n",
    "import h5py as h5\n",
    "from sklearn.preprocessing import StandardScaler\n",
    "from sklearn import svm\n",
    "from sklearn.pipeline import Pipeline\n",
    "from sklearn.grid_search import GridSearchCV\n",
    "from sklearn.externals import joblib\n",
    "\n",
    "train_file = 'features/train_stats_features.h5'\n",
    "test_file = 'features/test_stats_features.h5'\n",
    "out_dir = 'predictions'\n",
    "model_dir = 'models/grad_boost'\n",
    "\n",
    "if not os.path.isdir(out_dir):\n",
    "    os.makedirs(out_dir)\n",
    "\n",
    "with h5.File(train_file) as train:\n",
    "    with h5.File(test_file) as test:\n",
    "        n_ch = 16\n",
    "        models = []\n",
    "        for i in range(n_ch):\n",
    "            models.append(joblib.load('%s/ch%d.pkl' % (model_dir, i)))\n",
    "\n",
    "        n_cases = test['ch0'].shape[0]\n",
    "        predictions = np.zeros((n_ch, n_cases))\n",
    "        \n",
    "        train_y = [int(name.split('.')[-2].split('_')[-1]) for name in train['names'][:]]\n",
    "        for i in range(n_ch):\n",
    "            ch = 'ch%d' % i\n",
    "            \n",
    "            train_x = train[ch][:]\n",
    "            test_x = test[ch][:]\n",
    "            predictions[i] = models[i].predict(test_x)\n",
    "            \n",
    "        print(predictions)\n",
    "        print(predictions.mean(axis = 0))\n",
    "\n",
    "        output = pd.DataFrame(data = test['names'][:], columns = ['File'])\n",
    "        output['Class'] = pd.Series(predictions.mean(axis = 0))\n",
    "\n",
    "        output.to_csv('%s/stats_grad_boost_prediction.csv' % out_dir, index = False)"
   ]
  },
  {
   "cell_type": "code",
   "execution_count": null,
   "metadata": {
    "collapsed": true
   },
   "outputs": [],
   "source": []
  },
  {
   "cell_type": "code",
   "execution_count": null,
   "metadata": {
    "collapsed": true
   },
   "outputs": [],
   "source": []
  }
 ],
 "metadata": {
  "anaconda-cloud": {},
  "kernelspec": {
   "display_name": "Python [conda root]",
   "language": "python",
   "name": "conda-root-py"
  },
  "language_info": {
   "codemirror_mode": {
    "name": "ipython",
    "version": 2
   },
   "file_extension": ".py",
   "mimetype": "text/x-python",
   "name": "python",
   "nbconvert_exporter": "python",
   "pygments_lexer": "ipython2",
   "version": "2.7.12"
  }
 },
 "nbformat": 4,
 "nbformat_minor": 1
}
