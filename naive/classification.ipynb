{
 "cells": [
  {
   "cell_type": "code",
   "execution_count": 2,
   "metadata": {
    "collapsed": false,
    "scrolled": true
   },
   "outputs": [
    {
     "name": "stdout",
     "output_type": "stream",
     "text": [
      "0.544750327919\n",
      "{'subsample': 0.505, 'learning_rate': 1.0}\n"
     ]
    },
    {
     "name": "stderr",
     "output_type": "stream",
     "text": [
      "C:\\Miniconda2\\lib\\site-packages\\sklearn\\ensemble\\gradient_boosting.py:489: RuntimeWarning: overflow encountered in logaddexp\n",
      "  np.sum(sample_weight * ((y * pred) - np.logaddexp(0.0, pred))))\n",
      "C:\\Miniconda2\\lib\\site-packages\\sklearn\\ensemble\\gradient_boosting.py:1090: RuntimeWarning: invalid value encountered in double_scalars\n",
      "  sample_weight[~sample_mask]))\n"
     ]
    },
    {
     "name": "stdout",
     "output_type": "stream",
     "text": [
      "0.602293715725\n",
      "{'subsample': 0.01, 'learning_rate': 1.0}\n",
      "0.530336040985\n",
      "{'subsample': 0.01, 'learning_rate': 100.0}\n",
      "0.559521879151\n",
      "{'subsample': 0.25750000000000001, 'learning_rate': 10.0}\n",
      "0.560631249531\n",
      "{'subsample': 0.25750000000000001, 'learning_rate': 100.0}\n",
      "0.545775220335\n",
      "{'subsample': 0.75249999999999995, 'learning_rate': 1.0}\n",
      "0.526264410438\n",
      "{'subsample': 1.0, 'learning_rate': 100.0}\n",
      "0.551438132005\n",
      "{'subsample': 0.01, 'learning_rate': 1.0}\n",
      "0.575506634359\n",
      "{'subsample': 0.505, 'learning_rate': 100.0}\n",
      "0.601931396043\n",
      "{'subsample': 1.0, 'learning_rate': 10.0}\n",
      "0.556102013008\n",
      "{'subsample': 0.505, 'learning_rate': 1.0}\n",
      "0.579363182145\n",
      "{'subsample': 0.01, 'learning_rate': 1.0}\n",
      "0.532695489802\n",
      "{'subsample': 0.75249999999999995, 'learning_rate': 100.0}\n",
      "0.555055505591\n",
      "{'subsample': 0.25750000000000001, 'learning_rate': 1.0}\n",
      "0.534592346412\n",
      "{'subsample': 1.0, 'learning_rate': 100.0}\n",
      "0.548838156944\n",
      "{'subsample': 1.0, 'learning_rate': 10.0}\n"
     ]
    }
   ],
   "source": [
    "import os\n",
    "\n",
    "import h5py as h5\n",
    "import numpy as np\n",
    "from sklearn.preprocessing import StandardScaler\n",
    "from sklearn.ensemble import GradientBoostingClassifier\n",
    "from sklearn.pipeline import Pipeline\n",
    "from sklearn.grid_search import GridSearchCV\n",
    "from sklearn.externals import joblib\n",
    "from sklearn.metrics import roc_auc_score, make_scorer\n",
    "\n",
    "train_file = 'features/train_stats_features.h5'\n",
    "test_file = 'features/test_stats_features.h5'\n",
    "out_dir = 'models/grad_boost'\n",
    "\n",
    "n_ch = 16\n",
    "\n",
    "with h5.File(train_file, 'r') as train:\n",
    "    for i in range(n_ch):\n",
    "        ch = 'ch%d' % i\n",
    "\n",
    "        train_x = train[ch][:]\n",
    "        train_y = [int(name.split('.')[-2].split('_')[-1]) for name in train['names'][:]]\n",
    "\n",
    "        scaler = StandardScaler().fit(train_x)\n",
    "        train_x = scaler.transform(train_x)\n",
    "\n",
    "        roc = make_scorer(roc_auc_score)\n",
    "\n",
    "        model = GradientBoostingClassifier(random_state = 1, n_estimators = 100)\n",
    "\n",
    "        searchParams = dict(\n",
    "            learning_rate = np.logspace(-2, 2, 5),\n",
    "            subsample = np.linspace(0.01, 1.0, 5)\n",
    "        )\n",
    "\n",
    "        search = GridSearchCV(model, param_grid = searchParams, scoring = roc, cv = 2)\n",
    "        search.fit(train_x, train_y)\n",
    "\n",
    "        print(search.best_score_)\n",
    "        print(search.best_params_)\n",
    "\n",
    "        model.set_params(**(search.best_params_))\n",
    "        model.fit(train_x, train_y)\n",
    "        \n",
    "        if not os.path.isdir(out_dir):\n",
    "            os.makedirs(out_dir)\n",
    "            \n",
    "        joblib.dump(model, \"%s/%s.pkl\" % (out_dir, ch), compress = 1)"
   ]
  },
  {
   "cell_type": "code",
   "execution_count": null,
   "metadata": {
    "collapsed": true
   },
   "outputs": [],
   "source": []
  }
 ],
 "metadata": {
  "anaconda-cloud": {},
  "kernelspec": {
   "display_name": "Python [conda root]",
   "language": "python",
   "name": "conda-root-py"
  },
  "language_info": {
   "codemirror_mode": {
    "name": "ipython",
    "version": 2
   },
   "file_extension": ".py",
   "mimetype": "text/x-python",
   "name": "python",
   "nbconvert_exporter": "python",
   "pygments_lexer": "ipython2",
   "version": "2.7.12"
  }
 },
 "nbformat": 4,
 "nbformat_minor": 1
}
