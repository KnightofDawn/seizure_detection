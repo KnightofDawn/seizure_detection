{
 "cells": [
  {
   "cell_type": "code",
   "execution_count": 1,
   "metadata": {
    "collapsed": true
   },
   "outputs": [],
   "source": [
    "import numpy as np\n",
    "from scipy.io import loadmat\n",
    "\n",
    "def load_eeg(matFile):\n",
    "    single_matdata = loadmat(matFile)\n",
    "    data = single_matdata['dataStruct']['data'][0][0]\n",
    "    data = np.swapaxes(data, 0, 1)\n",
    "\n",
    "    return data"
   ]
  },
  {
   "cell_type": "code",
   "execution_count": 1,
   "metadata": {
    "collapsed": false
   },
   "outputs": [],
   "source": [
    "import os\n",
    "import glob\n",
    "\n",
    "import numpy as np\n",
    "import h5py as h5\n",
    "\n",
    "n_channels = 16\n",
    "n_data = 240000\n",
    "\n",
    "def convert_data(input_dir, out_file):\n",
    "    mat_files = glob.glob(\"%s/*/*.mat\" % input_dir)\n",
    "    names = [os.path.basename(mat_file) for mat_file in mat_files]\n",
    "    n_files = len(mat_files)\n",
    "    \n",
    "    hdf = h5.File(out_file)\n",
    "    print('test')\n",
    "    if not 'ch0' in hdf:\n",
    "        for i in range(n_channels):\n",
    "            print('test')\n",
    "            hdf.create_dataset('data', (n_files, n_data))\n",
    "        hdf.create_dataset('idx', data = 0)\n",
    "        hdf.create_dataset('names', data = names)\n",
    "    \n",
    "    for i in range(hdf['idx'][()], n_files):\n",
    "        print('test')\n",
    "        data = load_eeg(mat_files[i])\n",
    "        for j in range(n_channels):\n",
    "            hdf['ch%d' % j]['data'][i] = data[j]\n",
    "        hdf['index'][()] = i\n",
    "        if i % 50 == 0:\n",
    "            print('%d/%d' % (i, n_files))\n",
    "        \n",
    "    print(hdf)"
   ]
  },
  {
   "cell_type": "code",
   "execution_count": null,
   "metadata": {
    "collapsed": false,
    "scrolled": true
   },
   "outputs": [],
   "source": [
    "convert_data('train', 'train.h5')"
   ]
  },
  {
   "cell_type": "code",
   "execution_count": null,
   "metadata": {
    "collapsed": false,
    "scrolled": true
   },
   "outputs": [],
   "source": [
    "import os\n",
    "import glob\n",
    "\n",
    "import numpy as np\n",
    "import h5py as h5\n",
    "input_dir = 'train'\n",
    "out_file = 'train.h5'\n",
    "\n",
    "mat_files = glob.glob(\"%s/*/*.mat\" % input_dir)\n",
    "names = [os.path.basename(mat_file) for mat_file in mat_files]\n",
    "n_files = len(mat_files)\n",
    "n_channels = 16\n",
    "n_data = 240000\n",
    "\n",
    "hdf = h5.File(out_file)\n",
    "if not 'ch0' in hdf:\n",
    "    for i in range(n_channels):\n",
    "        hdf.create_dataset('ch%d' % i, (n_files, n_data))\n",
    "    hdf.create_dataset('idx', data = 0)\n",
    "    hdf.create_dataset('names', data = names)\n",
    "print(hdf)\n",
    "print(n_files)\n",
    "for i in range(n_files):\n",
    "    data = load_eeg(mat_files[i])\n",
    "    if i % 50 == 0:\n",
    "        print(\"%d/%d\" % (i, n_files))\n",
    "    for j in range(n_channels):\n",
    "        hdf['ch%d' % j][i,:] = data[j]\n",
    "print(hdf['ch0'])"
   ]
  },
  {
   "cell_type": "code",
   "execution_count": null,
   "metadata": {
    "collapsed": true
   },
   "outputs": [],
   "source": []
  },
  {
   "cell_type": "code",
   "execution_count": null,
   "metadata": {
    "collapsed": true
   },
   "outputs": [],
   "source": []
  }
 ],
 "metadata": {
  "anaconda-cloud": {},
  "kernelspec": {
   "display_name": "Python [conda root]",
   "language": "python",
   "name": "conda-root-py"
  },
  "language_info": {
   "codemirror_mode": {
    "name": "ipython",
    "version": 2
   },
   "file_extension": ".py",
   "mimetype": "text/x-python",
   "name": "python",
   "nbconvert_exporter": "python",
   "pygments_lexer": "ipython2",
   "version": "2.7.12"
  }
 },
 "nbformat": 4,
 "nbformat_minor": 1
}
